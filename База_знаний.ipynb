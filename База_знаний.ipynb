{
  "nbformat": 4,
  "nbformat_minor": 0,
  "metadata": {
    "colab": {
      "name": "База знаний",
      "provenance": [],
      "authorship_tag": "ABX9TyO7htkzbJsNGfWNt5Vdh+0f"
    },
    "kernelspec": {
      "name": "python3",
      "display_name": "Python 3"
    },
    "language_info": {
      "name": "python"
    }
  },
  "cells": [
    {
      "cell_type": "code",
      "execution_count": null,
      "metadata": {
        "id": "n2LQ9DuD0sNU"
      },
      "outputs": [],
      "source": [
        ""
      ]
    }
  ]
}